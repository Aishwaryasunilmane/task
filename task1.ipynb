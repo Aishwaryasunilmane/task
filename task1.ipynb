{
  "nbformat": 4,
  "nbformat_minor": 0,
  "metadata": {
    "colab": {
      "provenance": []
    },
    "kernelspec": {
      "name": "python3",
      "display_name": "Python 3"
    },
    "language_info": {
      "name": "python"
    }
  },
  "cells": [
    {
      "cell_type": "code",
      "execution_count": 1,
      "metadata": {
        "colab": {
          "base_uri": "https://localhost:8080/"
        },
        "id": "LxLYFAD2qQs1",
        "outputId": "55f844a0-b43f-4850-d4e7-3d1d8b18e93b"
      },
      "outputs": [
        {
          "output_type": "stream",
          "name": "stdout",
          "text": [
            "apple: 2\n",
            "banana: 3\n",
            "orange: 1\n"
          ]
        }
      ],
      "source": [
        "from collections import Counter\n",
        "\n",
        "def count_word_frequency(paragraph):\n",
        "    words = paragraph.split()\n",
        "    word_count = Counter(words)\n",
        "    return word_count\n",
        "\n",
        "paragraph = \"apple banana apple orange banana banana\"\n",
        "word_count = count_word_frequency(paragraph)\n",
        "\n",
        "for word, count in word_count.items():\n",
        "    print(f\"{word}: {count}\")\n"
      ]
    }
  ]
}